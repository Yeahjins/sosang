{
 "cells": [
  {
   "cell_type": "code",
   "execution_count": 1,
   "metadata": {},
   "outputs": [
    {
     "name": "stderr",
     "output_type": "stream",
     "text": [
      "C:\\Users\\user\\AppData\\Local\\Temp\\ipykernel_6780\\1034587876.py:2: DeprecationWarning: Importing display from IPython.core.display is deprecated since IPython 7.14, please import from IPython display\n",
      "  from IPython.core.display import display, HTML\n"
     ]
    },
    {
     "data": {
      "text/html": [
       "<style>.container { width:90% !important; }</style>"
      ],
      "text/plain": [
       "<IPython.core.display.HTML object>"
      ]
     },
     "metadata": {},
     "output_type": "display_data"
    },
    {
     "data": {
      "text/html": [
       "<style>.input_area pre {font-family: Consolas; font-size: 11pt; line-height: 120%;}</style>"
      ],
      "text/plain": [
       "<IPython.core.display.HTML object>"
      ]
     },
     "metadata": {},
     "output_type": "display_data"
    },
    {
     "data": {
      "text/html": [
       "<style>.output_area pre {font-family: Consolas; font-size: 11pt; line-height: 120%;}</style>"
      ],
      "text/plain": [
       "<IPython.core.display.HTML object>"
      ]
     },
     "metadata": {},
     "output_type": "display_data"
    }
   ],
   "source": [
    "##개폐업수차이\n",
    "from IPython.core.display import display, HTML\n",
    "display(HTML(\"<style>.container { width:90% !important; }</style>\"))\n",
    "display(HTML(\"<style>.input_area pre {font-family: Consolas; font-size: 11pt; line-height: 120%;}</style>\"))\n",
    "display(HTML(\"<style>.output_area pre {font-family: Consolas; font-size: 11pt; line-height: 120%;}</style>\"))\n",
    "import seaborn as sns\n",
    "import numpy as np\n",
    "import pandas as pd\n",
    "import matplotlib.pyplot as plt\n",
    "from matplotlib import rcParams\n",
    "from datetime import datetime as dt \n",
    "from matplotlib import colors as mcolors\n",
    "%matplotlib inline\n",
    "import seaborn as sns\n",
    "\n",
    "from IPython.core.interactiveshell import InteractiveShell\n",
    "InteractiveShell.ast_node_interactivity = 'all'\n",
    "\n",
    "\n",
    "from matplotlib import font_manager, rc\n",
    "font_name = font_manager.FontProperties(fname=\"c:/Windows/Fonts/malgun.ttf\").get_name()\n",
    "rc('font', family=font_name)\n",
    "\n",
    "\n",
    "import matplotlib as mpl\n",
    "mpl.rcParams['axes.unicode_minus']=False\n",
    "\n",
    "import warnings\n",
    "warnings.filterwarnings('ignore')\n",
    "plt.style.use('fivethirtyeight')"
   ]
  },
  {
   "cell_type": "markdown",
   "metadata": {},
   "source": []
  },
  {
   "cell_type": "code",
   "execution_count": 3,
   "metadata": {},
   "outputs": [
    {
     "data": {
      "text/html": [
       "<div>\n",
       "<style scoped>\n",
       "    .dataframe tbody tr th:only-of-type {\n",
       "        vertical-align: middle;\n",
       "    }\n",
       "\n",
       "    .dataframe tbody tr th {\n",
       "        vertical-align: top;\n",
       "    }\n",
       "\n",
       "    .dataframe thead th {\n",
       "        text-align: right;\n",
       "    }\n",
       "</style>\n",
       "<table border=\"1\" class=\"dataframe\">\n",
       "  <thead>\n",
       "    <tr style=\"text-align: right;\">\n",
       "      <th></th>\n",
       "      <th>연도</th>\n",
       "      <th>2018</th>\n",
       "      <th>2018.1</th>\n",
       "      <th>2019</th>\n",
       "      <th>2019.1</th>\n",
       "      <th>2020</th>\n",
       "      <th>2020.1</th>\n",
       "      <th>2021</th>\n",
       "      <th>2021.1</th>\n",
       "      <th>2022</th>\n",
       "      <th>2022.1</th>\n",
       "    </tr>\n",
       "  </thead>\n",
       "  <tbody>\n",
       "    <tr>\n",
       "      <th>0</th>\n",
       "      <td>행정구역/외식업</td>\n",
       "      <td>개업수</td>\n",
       "      <td>폐업수</td>\n",
       "      <td>개업수</td>\n",
       "      <td>폐업수</td>\n",
       "      <td>개업수</td>\n",
       "      <td>폐업수</td>\n",
       "      <td>개업수</td>\n",
       "      <td>폐업수</td>\n",
       "      <td>개업수</td>\n",
       "      <td>폐업수</td>\n",
       "    </tr>\n",
       "    <tr>\n",
       "      <th>1</th>\n",
       "      <td>서울시 전체</td>\n",
       "      <td>25220</td>\n",
       "      <td>26060</td>\n",
       "      <td>27629</td>\n",
       "      <td>24687</td>\n",
       "      <td>24854</td>\n",
       "      <td>22912</td>\n",
       "      <td>24889</td>\n",
       "      <td>20534</td>\n",
       "      <td>21547</td>\n",
       "      <td>20757</td>\n",
       "    </tr>\n",
       "    <tr>\n",
       "      <th>2</th>\n",
       "      <td>종로구</td>\n",
       "      <td>1099</td>\n",
       "      <td>1119</td>\n",
       "      <td>1116</td>\n",
       "      <td>1018</td>\n",
       "      <td>831</td>\n",
       "      <td>931</td>\n",
       "      <td>860</td>\n",
       "      <td>816</td>\n",
       "      <td>833</td>\n",
       "      <td>760</td>\n",
       "    </tr>\n",
       "    <tr>\n",
       "      <th>3</th>\n",
       "      <td>중구</td>\n",
       "      <td>882</td>\n",
       "      <td>965</td>\n",
       "      <td>1029</td>\n",
       "      <td>829</td>\n",
       "      <td>806</td>\n",
       "      <td>878</td>\n",
       "      <td>784</td>\n",
       "      <td>727</td>\n",
       "      <td>686</td>\n",
       "      <td>696</td>\n",
       "    </tr>\n",
       "    <tr>\n",
       "      <th>4</th>\n",
       "      <td>용산구</td>\n",
       "      <td>854</td>\n",
       "      <td>848</td>\n",
       "      <td>870</td>\n",
       "      <td>752</td>\n",
       "      <td>811</td>\n",
       "      <td>790</td>\n",
       "      <td>806</td>\n",
       "      <td>662</td>\n",
       "      <td>767</td>\n",
       "      <td>585</td>\n",
       "    </tr>\n",
       "    <tr>\n",
       "      <th>5</th>\n",
       "      <td>성동구</td>\n",
       "      <td>783</td>\n",
       "      <td>703</td>\n",
       "      <td>880</td>\n",
       "      <td>695</td>\n",
       "      <td>861</td>\n",
       "      <td>672</td>\n",
       "      <td>845</td>\n",
       "      <td>646</td>\n",
       "      <td>729</td>\n",
       "      <td>630</td>\n",
       "    </tr>\n",
       "    <tr>\n",
       "      <th>6</th>\n",
       "      <td>광진구</td>\n",
       "      <td>964</td>\n",
       "      <td>1016</td>\n",
       "      <td>992</td>\n",
       "      <td>913</td>\n",
       "      <td>928</td>\n",
       "      <td>836</td>\n",
       "      <td>958</td>\n",
       "      <td>759</td>\n",
       "      <td>851</td>\n",
       "      <td>796</td>\n",
       "    </tr>\n",
       "    <tr>\n",
       "      <th>7</th>\n",
       "      <td>동대문구</td>\n",
       "      <td>853</td>\n",
       "      <td>938</td>\n",
       "      <td>917</td>\n",
       "      <td>907</td>\n",
       "      <td>802</td>\n",
       "      <td>774</td>\n",
       "      <td>834</td>\n",
       "      <td>715</td>\n",
       "      <td>716</td>\n",
       "      <td>684</td>\n",
       "    </tr>\n",
       "    <tr>\n",
       "      <th>8</th>\n",
       "      <td>중랑구</td>\n",
       "      <td>786</td>\n",
       "      <td>861</td>\n",
       "      <td>833</td>\n",
       "      <td>786</td>\n",
       "      <td>803</td>\n",
       "      <td>746</td>\n",
       "      <td>790</td>\n",
       "      <td>662</td>\n",
       "      <td>677</td>\n",
       "      <td>673</td>\n",
       "    </tr>\n",
       "    <tr>\n",
       "      <th>9</th>\n",
       "      <td>성북구</td>\n",
       "      <td>825</td>\n",
       "      <td>860</td>\n",
       "      <td>850</td>\n",
       "      <td>786</td>\n",
       "      <td>738</td>\n",
       "      <td>701</td>\n",
       "      <td>772</td>\n",
       "      <td>636</td>\n",
       "      <td>679</td>\n",
       "      <td>617</td>\n",
       "    </tr>\n",
       "  </tbody>\n",
       "</table>\n",
       "</div>"
      ],
      "text/plain": [
       "         연도   2018 2018.1   2019 2019.1   2020 2020.1   2021 2021.1   2022  \\\n",
       "0  행정구역/외식업    개업수    폐업수    개업수    폐업수    개업수    폐업수    개업수    폐업수    개업수   \n",
       "1    서울시 전체  25220  26060  27629  24687  24854  22912  24889  20534  21547   \n",
       "2       종로구   1099   1119   1116   1018    831    931    860    816    833   \n",
       "3        중구    882    965   1029    829    806    878    784    727    686   \n",
       "4       용산구    854    848    870    752    811    790    806    662    767   \n",
       "5       성동구    783    703    880    695    861    672    845    646    729   \n",
       "6       광진구    964   1016    992    913    928    836    958    759    851   \n",
       "7      동대문구    853    938    917    907    802    774    834    715    716   \n",
       "8       중랑구    786    861    833    786    803    746    790    662    677   \n",
       "9       성북구    825    860    850    786    738    701    772    636    679   \n",
       "\n",
       "  2022.1  \n",
       "0    폐업수  \n",
       "1  20757  \n",
       "2    760  \n",
       "3    696  \n",
       "4    585  \n",
       "5    630  \n",
       "6    796  \n",
       "7    684  \n",
       "8    673  \n",
       "9    617  "
      ]
     },
     "execution_count": 3,
     "metadata": {},
     "output_type": "execute_result"
    },
    {
     "data": {
      "text/plain": [
       "Index(['연도', '2018', '2018.1', '2019', '2019.1', '2020', '2020.1', '2021',\n",
       "       '2021.1', '2022', '2022.1'],\n",
       "      dtype='object')"
      ]
     },
     "execution_count": 3,
     "metadata": {},
     "output_type": "execute_result"
    }
   ],
   "source": [
    "file_path = \"C:/Sosang/2.개폐업수/외식업_개폐업수(2018-2022).csv\"\n",
    "df = pd.read_csv(file_path, encoding='cp949') \n",
    "df.head(10) \n",
    "df.columns"
   ]
  },
  {
   "cell_type": "code",
   "execution_count": 4,
   "metadata": {},
   "outputs": [
    {
     "data": {
      "text/html": [
       "<div>\n",
       "<style scoped>\n",
       "    .dataframe tbody tr th:only-of-type {\n",
       "        vertical-align: middle;\n",
       "    }\n",
       "\n",
       "    .dataframe tbody tr th {\n",
       "        vertical-align: top;\n",
       "    }\n",
       "\n",
       "    .dataframe thead th {\n",
       "        text-align: right;\n",
       "    }\n",
       "</style>\n",
       "<table border=\"1\" class=\"dataframe\">\n",
       "  <thead>\n",
       "    <tr style=\"text-align: right;\">\n",
       "      <th></th>\n",
       "      <th>연도</th>\n",
       "      <th>2018</th>\n",
       "      <th>2018.1</th>\n",
       "      <th>2019</th>\n",
       "      <th>2019.1</th>\n",
       "      <th>2020</th>\n",
       "      <th>2020.1</th>\n",
       "      <th>2021</th>\n",
       "      <th>2021.1</th>\n",
       "      <th>2022</th>\n",
       "      <th>2022.1</th>\n",
       "    </tr>\n",
       "  </thead>\n",
       "  <tbody>\n",
       "    <tr>\n",
       "      <th>0</th>\n",
       "      <td>행정구역/외식업</td>\n",
       "      <td>개업수</td>\n",
       "      <td>폐업수</td>\n",
       "      <td>개업수</td>\n",
       "      <td>폐업수</td>\n",
       "      <td>개업수</td>\n",
       "      <td>폐업수</td>\n",
       "      <td>개업수</td>\n",
       "      <td>폐업수</td>\n",
       "      <td>개업수</td>\n",
       "      <td>폐업수</td>\n",
       "    </tr>\n",
       "    <tr>\n",
       "      <th>1</th>\n",
       "      <td>서울시 전체</td>\n",
       "      <td>25220</td>\n",
       "      <td>26060</td>\n",
       "      <td>27629</td>\n",
       "      <td>24687</td>\n",
       "      <td>24854</td>\n",
       "      <td>22912</td>\n",
       "      <td>24889</td>\n",
       "      <td>20534</td>\n",
       "      <td>21547</td>\n",
       "      <td>20757</td>\n",
       "    </tr>\n",
       "  </tbody>\n",
       "</table>\n",
       "</div>"
      ],
      "text/plain": [
       "         연도   2018 2018.1   2019 2019.1   2020 2020.1   2021 2021.1   2022  \\\n",
       "0  행정구역/외식업    개업수    폐업수    개업수    폐업수    개업수    폐업수    개업수    폐업수    개업수   \n",
       "1    서울시 전체  25220  26060  27629  24687  24854  22912  24889  20534  21547   \n",
       "\n",
       "  2022.1  \n",
       "0    폐업수  \n",
       "1  20757  "
      ]
     },
     "execution_count": 4,
     "metadata": {},
     "output_type": "execute_result"
    }
   ],
   "source": [
    "tmp = df.iloc[:2, ]\n",
    "tmp"
   ]
  },
  {
   "cell_type": "code",
   "execution_count": 5,
   "metadata": {},
   "outputs": [
    {
     "data": {
      "text/plain": [
       "'21547'"
      ]
     },
     "execution_count": 5,
     "metadata": {},
     "output_type": "execute_result"
    }
   ],
   "source": [
    "tmp.iloc[1,9]"
   ]
  },
  {
   "cell_type": "code",
   "execution_count": 6,
   "metadata": {},
   "outputs": [],
   "source": [
    "df = tmp.reindex(['2018', '2019', '2020', '2021','2022','2018.1', '2019.1', '2020.1', '2021.1','2022.1'], axis = 1)"
   ]
  },
  {
   "cell_type": "code",
   "execution_count": 7,
   "metadata": {},
   "outputs": [
    {
     "data": {
      "text/html": [
       "<div>\n",
       "<style scoped>\n",
       "    .dataframe tbody tr th:only-of-type {\n",
       "        vertical-align: middle;\n",
       "    }\n",
       "\n",
       "    .dataframe tbody tr th {\n",
       "        vertical-align: top;\n",
       "    }\n",
       "\n",
       "    .dataframe thead th {\n",
       "        text-align: right;\n",
       "    }\n",
       "</style>\n",
       "<table border=\"1\" class=\"dataframe\">\n",
       "  <thead>\n",
       "    <tr style=\"text-align: right;\">\n",
       "      <th></th>\n",
       "      <th>2018</th>\n",
       "      <th>2019</th>\n",
       "      <th>2020</th>\n",
       "      <th>2021</th>\n",
       "      <th>2022</th>\n",
       "      <th>2018.1</th>\n",
       "      <th>2019.1</th>\n",
       "      <th>2020.1</th>\n",
       "      <th>2021.1</th>\n",
       "      <th>2022.1</th>\n",
       "    </tr>\n",
       "  </thead>\n",
       "  <tbody>\n",
       "    <tr>\n",
       "      <th>0</th>\n",
       "      <td>개업수</td>\n",
       "      <td>개업수</td>\n",
       "      <td>개업수</td>\n",
       "      <td>개업수</td>\n",
       "      <td>개업수</td>\n",
       "      <td>폐업수</td>\n",
       "      <td>폐업수</td>\n",
       "      <td>폐업수</td>\n",
       "      <td>폐업수</td>\n",
       "      <td>폐업수</td>\n",
       "    </tr>\n",
       "    <tr>\n",
       "      <th>1</th>\n",
       "      <td>25220</td>\n",
       "      <td>27629</td>\n",
       "      <td>24854</td>\n",
       "      <td>24889</td>\n",
       "      <td>21547</td>\n",
       "      <td>26060</td>\n",
       "      <td>24687</td>\n",
       "      <td>22912</td>\n",
       "      <td>20534</td>\n",
       "      <td>20757</td>\n",
       "    </tr>\n",
       "  </tbody>\n",
       "</table>\n",
       "</div>"
      ],
      "text/plain": [
       "    2018   2019   2020   2021   2022 2018.1 2019.1 2020.1 2021.1 2022.1\n",
       "0    개업수    개업수    개업수    개업수    개업수    폐업수    폐업수    폐업수    폐업수    폐업수\n",
       "1  25220  27629  24854  24889  21547  26060  24687  22912  20534  20757"
      ]
     },
     "execution_count": 7,
     "metadata": {},
     "output_type": "execute_result"
    }
   ],
   "source": [
    "df"
   ]
  },
  {
   "cell_type": "code",
   "execution_count": 8,
   "metadata": {},
   "outputs": [],
   "source": [
    "df.rename(columns={'2018.1':'2018'},inplace=True)"
   ]
  },
  {
   "cell_type": "code",
   "execution_count": 9,
   "metadata": {},
   "outputs": [],
   "source": [
    "df.rename(columns={'2019.1':'2019'},inplace=True)\n",
    "df.rename(columns={'2020.1':'2020'},inplace=True)\n",
    "df.rename(columns={'2021.1':'2021'},inplace=True)\n",
    "df.rename(columns={'2022.1':'2022'},inplace=True)"
   ]
  },
  {
   "cell_type": "code",
   "execution_count": 10,
   "metadata": {},
   "outputs": [
    {
     "data": {
      "text/plain": [
       "2018    개업수\n",
       "2019    개업수\n",
       "2020    개업수\n",
       "2021    개업수\n",
       "2022    개업수\n",
       "2018    폐업수\n",
       "2019    폐업수\n",
       "2020    폐업수\n",
       "2021    폐업수\n",
       "2022    폐업수\n",
       "Name: 0, dtype: object"
      ]
     },
     "execution_count": 10,
     "metadata": {},
     "output_type": "execute_result"
    }
   ],
   "source": [
    "df.loc[0]"
   ]
  },
  {
   "cell_type": "code",
   "execution_count": 11,
   "metadata": {},
   "outputs": [
    {
     "data": {
      "text/plain": [
       "Index(['2018', '2019', '2020', '2021', '2022', '2018', '2019', '2020', '2021',\n",
       "       '2022'],\n",
       "      dtype='object')"
      ]
     },
     "execution_count": 11,
     "metadata": {},
     "output_type": "execute_result"
    }
   ],
   "source": [
    "df.columns"
   ]
  },
  {
   "cell_type": "code",
   "execution_count": 12,
   "metadata": {},
   "outputs": [],
   "source": [
    "tdf=df.T"
   ]
  },
  {
   "cell_type": "code",
   "execution_count": 13,
   "metadata": {},
   "outputs": [],
   "source": [
    "기간 = [2018, 2019, 2020, 2021, 2022]"
   ]
  },
  {
   "cell_type": "code",
   "execution_count": 14,
   "metadata": {},
   "outputs": [
    {
     "data": {
      "text/html": [
       "<div>\n",
       "<style scoped>\n",
       "    .dataframe tbody tr th:only-of-type {\n",
       "        vertical-align: middle;\n",
       "    }\n",
       "\n",
       "    .dataframe tbody tr th {\n",
       "        vertical-align: top;\n",
       "    }\n",
       "\n",
       "    .dataframe thead th {\n",
       "        text-align: right;\n",
       "    }\n",
       "</style>\n",
       "<table border=\"1\" class=\"dataframe\">\n",
       "  <thead>\n",
       "    <tr style=\"text-align: right;\">\n",
       "      <th></th>\n",
       "      <th>0</th>\n",
       "      <th>1</th>\n",
       "    </tr>\n",
       "  </thead>\n",
       "  <tbody>\n",
       "    <tr>\n",
       "      <th>2018</th>\n",
       "      <td>개업수</td>\n",
       "      <td>25220</td>\n",
       "    </tr>\n",
       "    <tr>\n",
       "      <th>2019</th>\n",
       "      <td>개업수</td>\n",
       "      <td>27629</td>\n",
       "    </tr>\n",
       "    <tr>\n",
       "      <th>2020</th>\n",
       "      <td>개업수</td>\n",
       "      <td>24854</td>\n",
       "    </tr>\n",
       "    <tr>\n",
       "      <th>2021</th>\n",
       "      <td>개업수</td>\n",
       "      <td>24889</td>\n",
       "    </tr>\n",
       "    <tr>\n",
       "      <th>2022</th>\n",
       "      <td>개업수</td>\n",
       "      <td>21547</td>\n",
       "    </tr>\n",
       "    <tr>\n",
       "      <th>2018</th>\n",
       "      <td>폐업수</td>\n",
       "      <td>26060</td>\n",
       "    </tr>\n",
       "    <tr>\n",
       "      <th>2019</th>\n",
       "      <td>폐업수</td>\n",
       "      <td>24687</td>\n",
       "    </tr>\n",
       "    <tr>\n",
       "      <th>2020</th>\n",
       "      <td>폐업수</td>\n",
       "      <td>22912</td>\n",
       "    </tr>\n",
       "    <tr>\n",
       "      <th>2021</th>\n",
       "      <td>폐업수</td>\n",
       "      <td>20534</td>\n",
       "    </tr>\n",
       "    <tr>\n",
       "      <th>2022</th>\n",
       "      <td>폐업수</td>\n",
       "      <td>20757</td>\n",
       "    </tr>\n",
       "  </tbody>\n",
       "</table>\n",
       "</div>"
      ],
      "text/plain": [
       "        0      1\n",
       "2018  개업수  25220\n",
       "2019  개업수  27629\n",
       "2020  개업수  24854\n",
       "2021  개업수  24889\n",
       "2022  개업수  21547\n",
       "2018  폐업수  26060\n",
       "2019  폐업수  24687\n",
       "2020  폐업수  22912\n",
       "2021  폐업수  20534\n",
       "2022  폐업수  20757"
      ]
     },
     "execution_count": 14,
     "metadata": {},
     "output_type": "execute_result"
    }
   ],
   "source": [
    "tdf"
   ]
  },
  {
   "cell_type": "code",
   "execution_count": 15,
   "metadata": {},
   "outputs": [],
   "source": [
    "개업수 = list(df.iloc[1, :5])\n",
    "폐업수 = list(df.iloc[1, 5:])\n"
   ]
  },
  {
   "cell_type": "code",
   "execution_count": 17,
   "metadata": {},
   "outputs": [],
   "source": [
    "개폐업수 = 개업수+폐업수"
   ]
  },
  {
   "cell_type": "code",
   "execution_count": 18,
   "metadata": {},
   "outputs": [
    {
     "data": {
      "text/plain": [
       "{'기간': [2018, 2019, 2020, 2021, 2022, 2018, 2019, 2020, 2021, 2022],\n",
       " '개폐업수': ['25220',\n",
       "  '27629',\n",
       "  '24854',\n",
       "  '24889',\n",
       "  '21547',\n",
       "  '26060',\n",
       "  '24687',\n",
       "  '22912',\n",
       "  '20534',\n",
       "  '20757'],\n",
       " '개폐여부': ['개업', '개업', '개업', '개업', '개업', '폐업', '폐업', '폐업', '폐업', '폐업']}"
      ]
     },
     "execution_count": 18,
     "metadata": {},
     "output_type": "execute_result"
    }
   ],
   "source": [
    "dic = {}\n",
    "dic['기간'] = 기간*2\n",
    "dic['개폐업수'] = 개폐업수\n",
    "dic['개폐여부'] = ['개업']*5+['폐업']*5\n",
    "dic"
   ]
  },
  {
   "cell_type": "code",
   "execution_count": 19,
   "metadata": {},
   "outputs": [],
   "source": [
    "df_test = pd.DataFrame(dic)"
   ]
  },
  {
   "cell_type": "code",
   "execution_count": 20,
   "metadata": {},
   "outputs": [
    {
     "name": "stdout",
     "output_type": "stream",
     "text": [
      "<class 'pandas.core.frame.DataFrame'>\n",
      "RangeIndex: 10 entries, 0 to 9\n",
      "Data columns (total 3 columns):\n",
      " #   Column  Non-Null Count  Dtype \n",
      "---  ------  --------------  ----- \n",
      " 0   기간      10 non-null     int64 \n",
      " 1   개폐업수    10 non-null     object\n",
      " 2   개폐여부    10 non-null     object\n",
      "dtypes: int64(1), object(2)\n",
      "memory usage: 372.0+ bytes\n"
     ]
    }
   ],
   "source": [
    "df_test.info()"
   ]
  },
  {
   "cell_type": "code",
   "execution_count": 21,
   "metadata": {},
   "outputs": [],
   "source": [
    "df_test['기간']=df_test['기간'].astype(str)\n",
    "df_test['개폐업수']=df_test['개폐업수'].astype(int)"
   ]
  },
  {
   "cell_type": "code",
   "execution_count": 22,
   "metadata": {},
   "outputs": [
    {
     "data": {
      "text/html": [
       "<div>\n",
       "<style scoped>\n",
       "    .dataframe tbody tr th:only-of-type {\n",
       "        vertical-align: middle;\n",
       "    }\n",
       "\n",
       "    .dataframe tbody tr th {\n",
       "        vertical-align: top;\n",
       "    }\n",
       "\n",
       "    .dataframe thead th {\n",
       "        text-align: right;\n",
       "    }\n",
       "</style>\n",
       "<table border=\"1\" class=\"dataframe\">\n",
       "  <thead>\n",
       "    <tr style=\"text-align: right;\">\n",
       "      <th></th>\n",
       "      <th>기간</th>\n",
       "      <th>개폐업수</th>\n",
       "      <th>개폐여부</th>\n",
       "    </tr>\n",
       "  </thead>\n",
       "  <tbody>\n",
       "    <tr>\n",
       "      <th>0</th>\n",
       "      <td>2018</td>\n",
       "      <td>25220</td>\n",
       "      <td>개업</td>\n",
       "    </tr>\n",
       "    <tr>\n",
       "      <th>1</th>\n",
       "      <td>2019</td>\n",
       "      <td>27629</td>\n",
       "      <td>개업</td>\n",
       "    </tr>\n",
       "    <tr>\n",
       "      <th>2</th>\n",
       "      <td>2020</td>\n",
       "      <td>24854</td>\n",
       "      <td>개업</td>\n",
       "    </tr>\n",
       "    <tr>\n",
       "      <th>3</th>\n",
       "      <td>2021</td>\n",
       "      <td>24889</td>\n",
       "      <td>개업</td>\n",
       "    </tr>\n",
       "    <tr>\n",
       "      <th>4</th>\n",
       "      <td>2022</td>\n",
       "      <td>21547</td>\n",
       "      <td>개업</td>\n",
       "    </tr>\n",
       "    <tr>\n",
       "      <th>5</th>\n",
       "      <td>2018</td>\n",
       "      <td>26060</td>\n",
       "      <td>폐업</td>\n",
       "    </tr>\n",
       "    <tr>\n",
       "      <th>6</th>\n",
       "      <td>2019</td>\n",
       "      <td>24687</td>\n",
       "      <td>폐업</td>\n",
       "    </tr>\n",
       "    <tr>\n",
       "      <th>7</th>\n",
       "      <td>2020</td>\n",
       "      <td>22912</td>\n",
       "      <td>폐업</td>\n",
       "    </tr>\n",
       "    <tr>\n",
       "      <th>8</th>\n",
       "      <td>2021</td>\n",
       "      <td>20534</td>\n",
       "      <td>폐업</td>\n",
       "    </tr>\n",
       "    <tr>\n",
       "      <th>9</th>\n",
       "      <td>2022</td>\n",
       "      <td>20757</td>\n",
       "      <td>폐업</td>\n",
       "    </tr>\n",
       "  </tbody>\n",
       "</table>\n",
       "</div>"
      ],
      "text/plain": [
       "     기간   개폐업수 개폐여부\n",
       "0  2018  25220   개업\n",
       "1  2019  27629   개업\n",
       "2  2020  24854   개업\n",
       "3  2021  24889   개업\n",
       "4  2022  21547   개업\n",
       "5  2018  26060   폐업\n",
       "6  2019  24687   폐업\n",
       "7  2020  22912   폐업\n",
       "8  2021  20534   폐업\n",
       "9  2022  20757   폐업"
      ]
     },
     "execution_count": 22,
     "metadata": {},
     "output_type": "execute_result"
    }
   ],
   "source": [
    "df_test"
   ]
  },
  {
   "cell_type": "code",
   "execution_count": 23,
   "metadata": {},
   "outputs": [
    {
     "data": {
      "text/plain": [
       "0    개업\n",
       "1    개업\n",
       "2    개업\n",
       "3    개업\n",
       "4    개업\n",
       "5    폐업\n",
       "6    폐업\n",
       "7    폐업\n",
       "8    폐업\n",
       "9    폐업\n",
       "Name: 개폐여부, dtype: object"
      ]
     },
     "execution_count": 23,
     "metadata": {},
     "output_type": "execute_result"
    }
   ],
   "source": [
    "df_test['개폐여부']"
   ]
  },
  {
   "cell_type": "code",
   "execution_count": 25,
   "metadata": {},
   "outputs": [
    {
     "data": {
      "text/plain": [
       "<Axes: xlabel='기간', ylabel='개폐업수'>"
      ]
     },
     "execution_count": 25,
     "metadata": {},
     "output_type": "execute_result"
    },
    {
     "data": {
      "image/png": "[encoded data removed]",
      "text/plain": [
       "<Figure size 640x480 with 1 Axes>"
      ]
     },
     "metadata": {},
     "output_type": "display_data"
    }
   ],
   "source": [
    "colors = [\"orange\", \"blue\"]\n",
    "sns.set_palette(sns.color_palette(colors))\n",
    "\n",
    "sns.barplot(data=df_test, x = \"기간\", y = '개폐업수',hue='개폐여부')"
   ]
  },
  {
   "cell_type": "code",
   "execution_count": null,
   "metadata": {},
   "outputs": [],
   "source": []
  },
  {
   "cell_type": "markdown",
   "metadata": {},
   "source": []
  }
 ],
 "metadata": {
  "kernelspec": {
   "display_name": "Python 3",
   "language": "python",
   "name": "python3"
  },
  "language_info": {
   "codemirror_mode": {
    "name": "ipython",
    "version": 3
   },
   "file_extension": ".py",
   "mimetype": "text/x-python",
   "name": "python",
   "nbconvert_exporter": "python",
   "pygments_lexer": "ipython3",
   "version": "3.11.4"
  },
  "orig_nbformat": 4
 },
 "nbformat": 4,
 "nbformat_minor": 2
}
