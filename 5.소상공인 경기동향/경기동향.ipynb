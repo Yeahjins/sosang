{
 "cells": [
  {
   "cell_type": "code",
   "execution_count": 5,
   "metadata": {},
   "outputs": [],
   "source": [
    "import pandas as pd\n",
    "import matplotlib.pyplot as plt"
   ]
  },
  {
   "cell_type": "code",
   "execution_count": 6,
   "metadata": {},
   "outputs": [
    {
     "data": {
      "text/html": [
       "<div>\n",
       "<style scoped>\n",
       "    .dataframe tbody tr th:only-of-type {\n",
       "        vertical-align: middle;\n",
       "    }\n",
       "\n",
       "    .dataframe tbody tr th {\n",
       "        vertical-align: top;\n",
       "    }\n",
       "\n",
       "    .dataframe thead th {\n",
       "        text-align: right;\n",
       "    }\n",
       "</style>\n",
       "<table border=\"1\" class=\"dataframe\">\n",
       "  <thead>\n",
       "    <tr style=\"text-align: right;\">\n",
       "      <th></th>\n",
       "      <th>년도</th>\n",
       "      <th>경기전반체감</th>\n",
       "      <th>매출체감</th>\n",
       "      <th>자금사정체감</th>\n",
       "      <th>서울체감</th>\n",
       "      <th>음식업체감</th>\n",
       "    </tr>\n",
       "  </thead>\n",
       "  <tbody>\n",
       "    <tr>\n",
       "      <th>0</th>\n",
       "      <td>2018</td>\n",
       "      <td>37.233333</td>\n",
       "      <td>36.075000</td>\n",
       "      <td>37.208333</td>\n",
       "      <td>65.308333</td>\n",
       "      <td>37.933333</td>\n",
       "    </tr>\n",
       "    <tr>\n",
       "      <th>1</th>\n",
       "      <td>2019</td>\n",
       "      <td>35.352778</td>\n",
       "      <td>34.806250</td>\n",
       "      <td>35.975694</td>\n",
       "      <td>61.325694</td>\n",
       "      <td>36.519444</td>\n",
       "    </tr>\n",
       "    <tr>\n",
       "      <th>2</th>\n",
       "      <td>2020</td>\n",
       "      <td>33.615509</td>\n",
       "      <td>33.206771</td>\n",
       "      <td>34.257002</td>\n",
       "      <td>56.611169</td>\n",
       "      <td>34.662731</td>\n",
       "    </tr>\n",
       "    <tr>\n",
       "      <th>3</th>\n",
       "      <td>2021</td>\n",
       "      <td>30.591802</td>\n",
       "      <td>30.215668</td>\n",
       "      <td>31.536753</td>\n",
       "      <td>51.762100</td>\n",
       "      <td>31.401292</td>\n",
       "    </tr>\n",
       "    <tr>\n",
       "      <th>4</th>\n",
       "      <td>2022</td>\n",
       "      <td>27.357785</td>\n",
       "      <td>26.933641</td>\n",
       "      <td>28.289815</td>\n",
       "      <td>46.975608</td>\n",
       "      <td>28.001400</td>\n",
       "    </tr>\n",
       "  </tbody>\n",
       "</table>\n",
       "</div>"
      ],
      "text/plain": [
       "     년도     경기전반체감       매출체감     자금사정체감       서울체감      음식업체감\n",
       "0  2018  37.233333  36.075000  37.208333  65.308333  37.933333\n",
       "1  2019  35.352778  34.806250  35.975694  61.325694  36.519444\n",
       "2  2020  33.615509  33.206771  34.257002  56.611169  34.662731\n",
       "3  2021  30.591802  30.215668  31.536753  51.762100  31.401292\n",
       "4  2022  27.357785  26.933641  28.289815  46.975608  28.001400"
      ]
     },
     "execution_count": 6,
     "metadata": {},
     "output_type": "execute_result"
    }
   ],
   "source": [
    "df = pd.read_csv(\"C:/Sosang/5.소상공인 경기동향/소상공인진흥공단_경기동향 현황.csv\", encoding='cp949')\n",
    "df"
   ]
  },
  {
   "cell_type": "code",
   "execution_count": 7,
   "metadata": {},
   "outputs": [
    {
     "name": "stdout",
     "output_type": "stream",
     "text": [
      "<class 'pandas.core.frame.DataFrame'>\n",
      "RangeIndex: 5 entries, 0 to 4\n",
      "Data columns (total 6 columns):\n",
      " #   Column  Non-Null Count  Dtype  \n",
      "---  ------  --------------  -----  \n",
      " 0   년도      5 non-null      int64  \n",
      " 1   경기전반체감  5 non-null      float64\n",
      " 2   매출체감    5 non-null      float64\n",
      " 3   자금사정체감  5 non-null      float64\n",
      " 4   서울체감    5 non-null      float64\n",
      " 5   음식업체감   5 non-null      float64\n",
      "dtypes: float64(5), int64(1)\n",
      "memory usage: 372.0 bytes\n"
     ]
    }
   ],
   "source": [
    "df.info()"
   ]
  },
  {
   "cell_type": "code",
   "execution_count": 8,
   "metadata": {},
   "outputs": [
    {
     "data": {
      "text/html": [
       "<div>\n",
       "<style scoped>\n",
       "    .dataframe tbody tr th:only-of-type {\n",
       "        vertical-align: middle;\n",
       "    }\n",
       "\n",
       "    .dataframe tbody tr th {\n",
       "        vertical-align: top;\n",
       "    }\n",
       "\n",
       "    .dataframe thead th {\n",
       "        text-align: right;\n",
       "    }\n",
       "</style>\n",
       "<table border=\"1\" class=\"dataframe\">\n",
       "  <thead>\n",
       "    <tr style=\"text-align: right;\">\n",
       "      <th></th>\n",
       "      <th>년도</th>\n",
       "      <th>경기전반체감</th>\n",
       "      <th>매출체감</th>\n",
       "      <th>자금사정체감</th>\n",
       "      <th>서울체감</th>\n",
       "      <th>음식업체감</th>\n",
       "    </tr>\n",
       "  </thead>\n",
       "  <tbody>\n",
       "    <tr>\n",
       "      <th>0</th>\n",
       "      <td>False</td>\n",
       "      <td>False</td>\n",
       "      <td>False</td>\n",
       "      <td>False</td>\n",
       "      <td>False</td>\n",
       "      <td>False</td>\n",
       "    </tr>\n",
       "    <tr>\n",
       "      <th>1</th>\n",
       "      <td>False</td>\n",
       "      <td>False</td>\n",
       "      <td>False</td>\n",
       "      <td>False</td>\n",
       "      <td>False</td>\n",
       "      <td>False</td>\n",
       "    </tr>\n",
       "    <tr>\n",
       "      <th>2</th>\n",
       "      <td>False</td>\n",
       "      <td>False</td>\n",
       "      <td>False</td>\n",
       "      <td>False</td>\n",
       "      <td>False</td>\n",
       "      <td>False</td>\n",
       "    </tr>\n",
       "    <tr>\n",
       "      <th>3</th>\n",
       "      <td>False</td>\n",
       "      <td>False</td>\n",
       "      <td>False</td>\n",
       "      <td>False</td>\n",
       "      <td>False</td>\n",
       "      <td>False</td>\n",
       "    </tr>\n",
       "    <tr>\n",
       "      <th>4</th>\n",
       "      <td>False</td>\n",
       "      <td>False</td>\n",
       "      <td>False</td>\n",
       "      <td>False</td>\n",
       "      <td>False</td>\n",
       "      <td>False</td>\n",
       "    </tr>\n",
       "  </tbody>\n",
       "</table>\n",
       "</div>"
      ],
      "text/plain": [
       "      년도  경기전반체감   매출체감  자금사정체감   서울체감  음식업체감\n",
       "0  False   False  False   False  False  False\n",
       "1  False   False  False   False  False  False\n",
       "2  False   False  False   False  False  False\n",
       "3  False   False  False   False  False  False\n",
       "4  False   False  False   False  False  False"
      ]
     },
     "execution_count": 8,
     "metadata": {},
     "output_type": "execute_result"
    }
   ],
   "source": [
    "df.isnull()"
   ]
  },
  {
   "cell_type": "code",
   "execution_count": 9,
   "metadata": {},
   "outputs": [
    {
     "data": {
      "text/plain": [
       "0    2018\n",
       "1    2019\n",
       "2    2020\n",
       "3    2021\n",
       "4    2022\n",
       "Name: 년도, dtype: int64"
      ]
     },
     "execution_count": 9,
     "metadata": {},
     "output_type": "execute_result"
    }
   ],
   "source": [
    "df['년도']"
   ]
  },
  {
   "cell_type": "code",
   "execution_count": 10,
   "metadata": {},
   "outputs": [
    {
     "data": {
      "text/plain": [
       "Text(0, 0.5, '체감율')"
      ]
     },
     "execution_count": 10,
     "metadata": {},
     "output_type": "execute_result"
    },
    {
     "data": {
      "image/png": "[encoded data removed]",
      "text/plain": [
       "<Figure size 640x480 with 1 Axes>"
      ]
     },
     "metadata": {},
     "output_type": "display_data"
    }
   ],
   "source": [
    "plt.rcParams['font.family'] = 'Malgun Gothic' # 한글 깨짐 방지\n",
    "\n",
    "plt.plot(df['년도'],df['경기전반체감'],label='경기전반체감',color='hotpink')\n",
    "plt.plot(df['년도'],df['매출체감'],label='매출체감',color='blue')\n",
    "plt.plot(df['년도'],df['자금사정체감'],label='자금사정체감',color='green')\n",
    "plt.plot(df['년도'],df['서울체감'],label='서울체감',color='red')\n",
    "plt.plot(df['년도'],df['음식업체감'],label='음식업체감',color='black')\n",
    "\n",
    "plt.legend(('경기전반체감','매출체감','자금사정체감','서울체감','음식업체감')) # 각 그래프별 이름 표시\n",
    "plt.xticks(df['년도'])  # x축에 년도 값만 표시\n",
    "plt.xlabel('년도')\n",
    "plt.ylabel('체감율')"
   ]
  }
 ],
 "metadata": {
  "kernelspec": {
   "display_name": "Python 3",
   "language": "python",
   "name": "python3"
  },
  "language_info": {
   "codemirror_mode": {
    "name": "ipython",
    "version": 3
   },
   "file_extension": ".py",
   "mimetype": "text/x-python",
   "name": "python",
   "nbconvert_exporter": "python",
   "pygments_lexer": "ipython3",
   "version": "3.11.4"
  },
  "orig_nbformat": 4
 },
 "nbformat": 4,
 "nbformat_minor": 2
}
